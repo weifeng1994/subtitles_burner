{
 "cells": [
  {
   "cell_type": "markdown",
   "id": "439252f4-91ff-4e66-8979-9908b8990463",
   "metadata": {},
   "source": [
    "# This notebook demonstrates how to use the API programmatically and generate video files"
   ]
  },
  {
   "cell_type": "markdown",
   "id": "3899a310-71b0-4463-87e6-763c92dba1f4",
   "metadata": {},
   "source": [
    "### Define relevant file paths"
   ]
  },
  {
   "cell_type": "code",
   "execution_count": 1,
   "id": "4f750b22-decb-4e72-8a41-7c3cd3eac404",
   "metadata": {},
   "outputs": [],
   "source": [
    "# Modify as required\n",
    "url = \"http://localhost:8000/file\"\n",
    "\n",
    "media_file_path = \"./examples/chinese.mp4\"\n",
    "subitile_file_path = \"./examples/chinese_eng.srt\"\n",
    "output_file_path = \"test2.wav\""
   ]
  },
  {
   "cell_type": "markdown",
   "id": "ac53eb2e-5210-4847-b42a-ca5b80475aea",
   "metadata": {},
   "source": [
    "### Let the magic begins!"
   ]
  },
  {
   "cell_type": "code",
   "execution_count": 2,
   "id": "55a54913-4cd8-4c28-b35e-1b2680d39963",
   "metadata": {},
   "outputs": [],
   "source": [
    "import requests\n",
    "import base64\n",
    "\n",
    "# Open relevant files as bytes\n",
    "media_file = open(media_file_path, \"rb\")\n",
    "subtitle_file = open(subitile_file_path, \"rb\")\n",
    "\n",
    "# Define parameters\n",
    "files = {\n",
    "    \"media_file\": media_file,\n",
    "    \"subtitle_file\": subtitle_file\n",
    "}\n",
    "\n",
    "# Define output_type (fix it as Base64)\n",
    "params = {\n",
    "    \"output_type\": \"Base64\"\n",
    "}"
   ]
  },
  {
   "cell_type": "code",
   "execution_count": 3,
   "id": "a03ffa10-52de-4aa3-9fc4-0db98996d6b4",
   "metadata": {},
   "outputs": [],
   "source": [
    "# Send post request. It might take a while to process.\n",
    "resp = requests.post(url, files=files, params=params)"
   ]
  },
  {
   "cell_type": "code",
   "execution_count": 4,
   "id": "ecd9fa49-1867-4f3e-943b-01f7e37b17e5",
   "metadata": {},
   "outputs": [],
   "source": [
    "# Write to output_file_path\n",
    "file_content = resp.text\n",
    "try:\n",
    "   file_content=base64.b64decode(file_content)\n",
    "   with open(output_file_path, \"wb\") as f:\n",
    "        f.write(file_content)\n",
    "except Exception as e:\n",
    "   print(str(e))"
   ]
  },
  {
   "cell_type": "markdown",
   "id": "f3235180-9780-41d5-92b8-f475135c85d6",
   "metadata": {},
   "source": [
    "### Hope you had fun burning subtitles!"
   ]
  }
 ],
 "metadata": {
  "kernelspec": {
   "display_name": "Python 3 (ipykernel)",
   "language": "python",
   "name": "python3"
  },
  "language_info": {
   "codemirror_mode": {
    "name": "ipython",
    "version": 3
   },
   "file_extension": ".py",
   "mimetype": "text/x-python",
   "name": "python",
   "nbconvert_exporter": "python",
   "pygments_lexer": "ipython3",
   "version": "3.10.11"
  }
 },
 "nbformat": 4,
 "nbformat_minor": 5
}
